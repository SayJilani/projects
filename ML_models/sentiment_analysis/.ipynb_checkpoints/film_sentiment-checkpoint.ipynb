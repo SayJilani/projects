{
 "cells": [
  {
   "cell_type": "markdown",
   "id": "6fc01f4c-9b8f-4723-8a5c-6c2d8d873b94",
   "metadata": {},
   "source": [
    "## Sentiment Analysis\n",
    "\n",
    "dataset link: https://www.kaggle.com/datasets/yasserh/imdb-movie-ratings-sentiment-analysis?resource=download\n",
    "\n",
    "(also in this folder)"
   ]
  },
  {
   "cell_type": "code",
   "execution_count": 36,
   "id": "50f62f1d-e035-43ff-88b3-2a0a5739563f",
   "metadata": {},
   "outputs": [
    {
     "name": "stderr",
     "output_type": "stream",
     "text": [
      "[nltk_data] Downloading package stopwords to\n",
      "[nltk_data]     /Users/sayyedjilani/nltk_data...\n",
      "[nltk_data]   Unzipping corpora/stopwords.zip.\n"
     ]
    },
    {
     "data": {
      "text/plain": [
       "True"
      ]
     },
     "execution_count": 36,
     "metadata": {},
     "output_type": "execute_result"
    }
   ],
   "source": [
    "# imports \n",
    "from nltk.corpus import stopwords\n",
    "from nltk.stem import PorterStemmer\n",
    "import numpy as np\n",
    "import pandas as pd\n",
    "import nltk\n",
    "import tensorflow as tf\n",
    "from sklearn.model_selection import train_test_split\n",
    "import re\n",
    "import string\n",
    "import matplotlib.pyplot as plt\n",
    "\n",
    "nltk.download('stopwords')"
   ]
  },
  {
   "cell_type": "markdown",
   "id": "66a99e55-be57-49a5-aa20-f950321a9123",
   "metadata": {},
   "source": [
    "## EDA"
   ]
  },
  {
   "cell_type": "code",
   "execution_count": 5,
   "id": "4be9fb66-b0cd-4f03-930d-841c1703c4d1",
   "metadata": {},
   "outputs": [
    {
     "data": {
      "text/html": [
       "<div>\n",
       "<style scoped>\n",
       "    .dataframe tbody tr th:only-of-type {\n",
       "        vertical-align: middle;\n",
       "    }\n",
       "\n",
       "    .dataframe tbody tr th {\n",
       "        vertical-align: top;\n",
       "    }\n",
       "\n",
       "    .dataframe thead th {\n",
       "        text-align: right;\n",
       "    }\n",
       "</style>\n",
       "<table border=\"1\" class=\"dataframe\">\n",
       "  <thead>\n",
       "    <tr style=\"text-align: right;\">\n",
       "      <th></th>\n",
       "      <th>text</th>\n",
       "      <th>label</th>\n",
       "    </tr>\n",
       "  </thead>\n",
       "  <tbody>\n",
       "    <tr>\n",
       "      <th>0</th>\n",
       "      <td>I grew up (b. 1965) watching and loving the Th...</td>\n",
       "      <td>0</td>\n",
       "    </tr>\n",
       "    <tr>\n",
       "      <th>1</th>\n",
       "      <td>When I put this movie in my DVD player, and sa...</td>\n",
       "      <td>0</td>\n",
       "    </tr>\n",
       "    <tr>\n",
       "      <th>2</th>\n",
       "      <td>Why do people who do not know what a particula...</td>\n",
       "      <td>0</td>\n",
       "    </tr>\n",
       "    <tr>\n",
       "      <th>3</th>\n",
       "      <td>Even though I have great interest in Biblical ...</td>\n",
       "      <td>0</td>\n",
       "    </tr>\n",
       "    <tr>\n",
       "      <th>4</th>\n",
       "      <td>Im a die hard Dads Army fan and nothing will e...</td>\n",
       "      <td>1</td>\n",
       "    </tr>\n",
       "  </tbody>\n",
       "</table>\n",
       "</div>"
      ],
      "text/plain": [
       "                                                text  label\n",
       "0  I grew up (b. 1965) watching and loving the Th...      0\n",
       "1  When I put this movie in my DVD player, and sa...      0\n",
       "2  Why do people who do not know what a particula...      0\n",
       "3  Even though I have great interest in Biblical ...      0\n",
       "4  Im a die hard Dads Army fan and nothing will e...      1"
      ]
     },
     "execution_count": 5,
     "metadata": {},
     "output_type": "execute_result"
    }
   ],
   "source": [
    "# view dataset and labels\n",
    "movies_df = pd.read_csv('movie.csv')\n",
    "movies_df.head()"
   ]
  },
  {
   "cell_type": "code",
   "execution_count": 6,
   "id": "b8f3a32f-a25c-4948-95fa-797247b8a83a",
   "metadata": {},
   "outputs": [
    {
     "data": {
      "text/plain": [
       "label\n",
       "0    20019\n",
       "1    19981\n",
       "Name: count, dtype: int64"
      ]
     },
     "execution_count": 6,
     "metadata": {},
     "output_type": "execute_result"
    }
   ],
   "source": [
    "# view distribution of labels\n",
    "movies_df['label'].value_counts()"
   ]
  },
  {
   "cell_type": "code",
   "execution_count": 7,
   "id": "09c5539d-d232-4fcb-93b3-afc0ff73c535",
   "metadata": {},
   "outputs": [
    {
     "data": {
      "text/plain": [
       "'I grew up (b. 1965) watching and loving the Thunderbirds. All my mates at school watched. We played \"Thunderbirds\" before school, during lunch and after school. We all wanted to be Virgil or Scott. No one wanted to be Alan. Counting down from 5 became an art form. I took my children to see the movie hoping they would get a glimpse of what I loved as a child. How bitterly disappointing. The only high point was the snappy theme tune. Not that it could compare with the original score of the Thunderbirds. Thankfully early Saturday mornings one television channel still plays reruns of the series Gerry Anderson and his wife created. Jonatha Frakes should hand in his directors chair, his version was completely hopeless. A waste of film. Utter rubbish. A CGI remake may be acceptable but replacing marionettes with Homo sapiens subsp. sapiens was a huge error of judgment.'"
      ]
     },
     "execution_count": 7,
     "metadata": {},
     "output_type": "execute_result"
    }
   ],
   "source": [
    "# view example text\n",
    "movies_df['text'][0]"
   ]
  },
  {
   "cell_type": "markdown",
   "id": "d25e985f-304f-4a8e-a7c3-04559f5ab964",
   "metadata": {},
   "source": [
    "The text iteslf needs to be processed, which includes removing stop words and break each word down to its indivdual stem"
   ]
  },
  {
   "cell_type": "code",
   "execution_count": 19,
   "id": "e895f0ae-5f8c-4307-b72a-32cbf4ca11ac",
   "metadata": {},
   "outputs": [],
   "source": [
    "# split dataset \n",
    "X = movies_df.drop('label', axis=1).values\n",
    "y = movies_df['label'].values\n",
    "\n",
    "# split the data into training and temporary set (80% training + 20% temp set)\n",
    "X_train, X_temp, y_train, y_temp = train_test_split(X, y, test_size=0.2, random_state=42)\n",
    "\n",
    "# split the temp set into testing and validation sets (80% training, 10% validation and 10% test set of the original dataset)\n",
    "X_val, X_test, y_val, y_test = train_test_split(X_temp, y_temp, test_size=0.5, random_state=42)"
   ]
  },
  {
   "cell_type": "code",
   "execution_count": 44,
   "id": "d7adf92a-37da-453d-8fe2-37049829c3f5",
   "metadata": {},
   "outputs": [
    {
     "name": "stdout",
     "output_type": "stream",
     "text": [
      "split sizes\n",
      "\n",
      "X_train:  (32000,)\n",
      "X_val:  (4000,)\n",
      "X_test:  (4000,)\n",
      "y_train:  (32000,)\n",
      "y_val:  (4000,)\n",
      "y_test:  (4000,)\n"
     ]
    }
   ],
   "source": [
    "X_train = np.squeeze(X_train)\n",
    "X_val = np.squeeze(X_val)\n",
    "X_test = np.squeeze(X_test)\n",
    "\n",
    "print('split sizes\\n')\n",
    "print('X_train: ', X_train.shape)\n",
    "print('X_val: ', X_val.shape)\n",
    "print('X_test: ', X_test.shape)\n",
    "print('y_train: ', y_train.shape)\n",
    "print('y_val: ', y_val.shape)\n",
    "print('y_test: ', y_test.shape)"
   ]
  },
  {
   "cell_type": "markdown",
   "id": "bc989b5d-8cda-4591-8ad0-32ed7adab188",
   "metadata": {},
   "source": [
    "Do positive film reviews tend to have greater length, or is it the other way around? We can utilze histograms to see the distibution of review length by sentiment."
   ]
  },
  {
   "cell_type": "code",
   "execution_count": 82,
   "id": "51221682-8f06-4ef8-9683-34a3777055af",
   "metadata": {},
   "outputs": [
    {
     "data": {
      "image/png": "[encoded data removed]",
      "text/plain": [
       "<Figure size 640x480 with 1 Axes>"
      ]
     },
     "metadata": {},
     "output_type": "display_data"
    },
    {
     "name": "stdout",
     "output_type": "stream",
     "text": [
      "Longest positive review: 13704\n",
      "Longest negative review: 8969\n",
      "\n",
      "Longest positive review: 1325.876277669781\n",
      "Longest negative review: 1285.3457920637886\n"
     ]
    }
   ],
   "source": [
    "# a list of lengths for training examples with a positive label.\n",
    "text_lengths_pos = [len(x) for (i, x) in enumerate(X_train) if y_train[i]]\n",
    "\n",
    "# a list of lengths for training examples with a negative label.\n",
    "text_lengths_neg = [len(x) for (i, x) in enumerate(X_train) if not y_train[i]]\n",
    "\n",
    "\n",
    "plt.hist([text_lengths_pos, text_lengths_neg], bins=20, range=(0, 10000), label=['positive', 'negative'])\n",
    "\n",
    "plt.legend()\n",
    "plt.show()\n",
    "\n",
    "# check the longest reviews\n",
    "print('Longest positive review:', max(text_lengths_pos))\n",
    "print('Longest negative review:', max(text_lengths_neg))\n",
    "# check avg review length\n",
    "print('\\nLongest positive review:', np.mean(text_lengths_pos))\n",
    "print('Longest negative review:', np.mean(text_lengths_neg))"
   ]
  },
  {
   "cell_type": "markdown",
   "id": "5646d67b-1952-4361-b0ff-4db21767ec28",
   "metadata": {},
   "source": [
    "On avergae the lengths of the reviews are quite similar. Similarly, the distribution of word lengths is also quite similar across the two classes, and the very large lengths can be considered to be outliers. Given the similar distributions, applying a word count limit as part of our processing may not be neccessary. "
   ]
  },
  {
   "cell_type": "code",
   "execution_count": 39,
   "id": "5acabc26-09ee-4d4e-8422-b253241f55ad",
   "metadata": {},
   "outputs": [],
   "source": [
    "def process_text(text):\n",
    "    '''\n",
    "    Input:\n",
    "        text: a string containing a film review\n",
    "    Output:\n",
    "        clean_text: a list of words containing the processed text\n",
    "    '''\n",
    "\n",
    "    stemmer = PorterStemmer()\n",
    "    stopwords_english = stopwords.words('english')\n",
    "    \n",
    "    # tokenize text by only using concurrent letters\n",
    "    words = re.findall(r'[a-z]+', text.lower())\n",
    "\n",
    "    clean_text = []\n",
    "    for word in words:\n",
    "        if (word not in stopwords_english and  # remove stopwords\n",
    "            word not in string.punctuation):  # remove punctuation\n",
    "            # tweets_clean.append(word)\n",
    "            stem_word = stemmer.stem(word)  # stemming word\n",
    "            clean_text.append(stem_word)\n",
    "\n",
    "    return clean_text"
   ]
  },
  {
   "cell_type": "code",
   "execution_count": 43,
   "id": "c4ab7a55-6060-4916-9caa-e404e46e1532",
   "metadata": {},
   "outputs": [
    {
     "name": "stdout",
     "output_type": "stream",
     "text": [
      "The following is an example text:\n",
      "I watched it last night and again this morning - that's how much I liked it. There is something about this movie... When the movie was almost over, I was about to cry. I would strongly recommend \"Latter Days\" to my friends - it's definitely worth seeing! I agree with those who say that some parts of the movie do not look very realistic. For example, both main characters are totally cute and in perfect physical shape (although, round is also a type of shape:) ). I rarely meet people like this as singles and I have never met any in couples. Other parts of the movie, including all those \"coincidences\", do not look very realistic as well. BUT, after all it is A MOVIE, not a life story.\n",
      "\n",
      "Thefollowing is an example of processed text:\n",
      "['watch', 'last', 'night', 'morn', 'much', 'like', 'someth', 'movi', 'movi', 'almost', 'cri', 'would', 'strongli', 'recommend', 'latter', 'day', 'friend', 'definit', 'worth', 'see', 'agre', 'say', 'part', 'movi', 'look', 'realist', 'exampl', 'main', 'charact', 'total', 'cute', 'perfect', 'physic', 'shape', 'although', 'round', 'also', 'type', 'shape', 'rare', 'meet', 'peopl', 'like', 'singl', 'never', 'met', 'coupl', 'part', 'movi', 'includ', 'coincid', 'look', 'realist', 'well', 'movi', 'life', 'stori']\n"
     ]
    }
   ],
   "source": [
    "print('The following is an example text:')\n",
    "print(X_train[0])\n",
    "print('\\nThefollowing is an example of processed text:')\n",
    "print(process_text(X_train[0]))"
   ]
  },
  {
   "cell_type": "code",
   "execution_count": 83,
   "id": "7fd496c5-9655-4c54-8671-c7b722a5825f",
   "metadata": {},
   "outputs": [],
   "source": [
    "# with extremely large datasets (GB to TB), the counts should not be stored in a dictionary. Splitting the data and utilzing the MapReduce paradigm\n",
    "# over various nodes may become necessary \n",
    "\n",
    "def count_text(mapper, X, y):\n",
    "    '''\n",
    "    Input:\n",
    "        mapper: dcitionary used to store tuples of word and sentiment counts\n",
    "        X: an array of texts\n",
    "        y: an array of corresponding sentiment of each text \n",
    "    Output:\n",
    "        result: a dictionary mapping each pair to its frequency { (word, sentiment) : count }\n",
    "    '''\n",
    "    \n",
    "    for y, text in zip(y, X):\n",
    "        for word in process_text(text):\n",
    "\n",
    "            # word, sentiment tuple as kay\n",
    "            key = (word, y)\n",
    "            \n",
    "            # if the key exists in the dictionary, increment the count\n",
    "            if mapper.get(key,0) != 0:\n",
    "                mapper[key] += 1\n",
    "\n",
    "            # else, if the key is new, add it to the dictionary and set the count to 1\n",
    "            else:\n",
    "                mapper[key] = 1\n",
    "\n",
    "    return mapper"
   ]
  },
  {
   "cell_type": "code",
   "execution_count": 84,
   "id": "ddafe9a0-a6d9-423e-8e1e-56ce052319d7",
   "metadata": {},
   "outputs": [
    {
     "data": {
      "text/plain": [
       "{('watch', 1): 1,\n",
       " ('last', 1): 1,\n",
       " ('night', 1): 1,\n",
       " ('morn', 1): 1,\n",
       " ('much', 1): 1,\n",
       " ('like', 1): 3,\n",
       " ('someth', 1): 4,\n",
       " ('movi', 1): 5,\n",
       " ('almost', 1): 1,\n",
       " ('cri', 1): 1,\n",
       " ('would', 1): 1,\n",
       " ('strongli', 1): 1,\n",
       " ('recommend', 1): 1,\n",
       " ('latter', 1): 1,\n",
       " ('day', 1): 1,\n",
       " ('friend', 1): 1,\n",
       " ('definit', 1): 1,\n",
       " ('worth', 1): 1,\n",
       " ('see', 1): 1,\n",
       " ('agre', 1): 1,\n",
       " ('say', 1): 2,\n",
       " ('part', 1): 2,\n",
       " ('look', 1): 2,\n",
       " ('realist', 1): 2,\n",
       " ('exampl', 1): 1,\n",
       " ('main', 1): 1,\n",
       " ('charact', 1): 2,\n",
       " ('total', 1): 1,\n",
       " ('cute', 1): 1,\n",
       " ('perfect', 1): 1,\n",
       " ('physic', 1): 1,\n",
       " ('shape', 1): 2,\n",
       " ('although', 1): 2,\n",
       " ('round', 1): 1,\n",
       " ('also', 1): 1,\n",
       " ('type', 1): 1,\n",
       " ('rare', 1): 1,\n",
       " ('meet', 1): 1,\n",
       " ('peopl', 1): 1,\n",
       " ('singl', 1): 1,\n",
       " ('never', 1): 1,\n",
       " ('met', 1): 1,\n",
       " ('coupl', 1): 1,\n",
       " ('includ', 1): 1,\n",
       " ('coincid', 1): 1,\n",
       " ('well', 1): 1,\n",
       " ('life', 1): 1,\n",
       " ('stori', 1): 2,\n",
       " ('western', 1): 2,\n",
       " ('one', 1): 2,\n",
       " ('favourit', 1): 1,\n",
       " ('john', 1): 2,\n",
       " ('ford', 1): 3,\n",
       " ('lack', 1): 1,\n",
       " ('certain', 1): 1,\n",
       " ('film', 1): 1,\n",
       " ('seen', 1): 1,\n",
       " ('anyway', 1): 2,\n",
       " ('possess', 1): 1,\n",
       " ('nit', 1): 1,\n",
       " ('sure', 1): 1,\n",
       " ('tangibl', 1): 1,\n",
       " ('gist', 1): 1,\n",
       " ('mormon', 1): 1,\n",
       " ('wagon', 1): 2,\n",
       " ('train', 1): 1,\n",
       " ('use', 1): 1,\n",
       " ('band', 1): 1,\n",
       " ('outlaw', 1): 1,\n",
       " ('hideout', 1): 1,\n",
       " ('pursu', 1): 1,\n",
       " ('poss', 1): 1,\n",
       " ('employ', 1): 1,\n",
       " ('lot', 1): 1,\n",
       " ('regular', 1): 1,\n",
       " ('interest', 1): 1,\n",
       " ('nice', 1): 1,\n",
       " ('sceneri', 1): 1,\n",
       " ('bit', 1): 1,\n",
       " ('action', 1): 1,\n",
       " ('excit', 1): 1,\n",
       " ('add', 1): 1,\n",
       " ('watchabl', 1): 1,\n",
       " ('experi', 1): 1,\n",
       " ('certainli', 1): 1,\n",
       " ('bore', 1): 1,\n",
       " ('quit', 1): 1,\n",
       " ('usual', 1): 1,\n",
       " ('standard', 1): 1,\n",
       " ('master', 1): 1,\n",
       " ('sat', 0): 1,\n",
       " ('watch', 0): 2,\n",
       " ('documentari', 0): 4,\n",
       " ('puerto', 0): 6,\n",
       " ('rico', 0): 6,\n",
       " ('end', 0): 1,\n",
       " ('one', 0): 2,\n",
       " ('nuyorican', 0): 5,\n",
       " ('go', 0): 1,\n",
       " ('fail', 0): 1,\n",
       " ('see', 0): 3,\n",
       " ('live', 0): 1,\n",
       " ('poverti', 0): 1,\n",
       " ('struggl', 0): 2,\n",
       " ('peopl', 0): 2,\n",
       " ('usual', 0): 1,\n",
       " ('haitian', 0): 1,\n",
       " ('dominican', 0): 2,\n",
       " ('cuban', 0): 1,\n",
       " ('recent', 0): 1,\n",
       " ('arriv', 0): 1,\n",
       " ('island', 0): 2,\n",
       " ('thing', 0): 2,\n",
       " ('spanglish', 0): 1,\n",
       " ('either', 0): 1,\n",
       " ('speak', 0): 2,\n",
       " ('spanish', 0): 2,\n",
       " ('heard', 0): 1,\n",
       " ('pedro', 0): 1,\n",
       " ('albizo', 0): 1,\n",
       " ('campo', 0): 2,\n",
       " ('mlk', 0): 2,\n",
       " ('great', 0): 2,\n",
       " ('man', 0): 2,\n",
       " ('want', 0): 4,\n",
       " ('independ', 0): 3,\n",
       " ('rest', 0): 1,\n",
       " ('loco', 0): 1,\n",
       " ('osama', 0): 1,\n",
       " ('bin', 0): 1,\n",
       " ('laden', 0): 1,\n",
       " ('puertorican', 0): 2,\n",
       " ('bunch', 0): 1,\n",
       " ('fool', 0): 1,\n",
       " ('proof', 0): 1,\n",
       " ('dreamer', 0): 1,\n",
       " ('cuba', 0): 1,\n",
       " ('haiti', 0): 1,\n",
       " ('republ', 0): 1,\n",
       " ('bahama', 0): 1,\n",
       " ('south', 0): 1,\n",
       " ('central', 0): 1,\n",
       " ('america', 0): 1,\n",
       " ('mexico', 0): 1,\n",
       " ('work', 0): 1,\n",
       " ('wonder', 0): 1,\n",
       " ('br', 0): 8,\n",
       " ('person', 0): 1,\n",
       " ('complaint', 0): 1,\n",
       " ('enough', 0): 1,\n",
       " ('africa', 0): 2,\n",
       " ('show', 0): 1,\n",
       " ('suppos', 0): 1,\n",
       " ('denzel', 0): 1,\n",
       " ('make', 0): 1,\n",
       " ('shortli', 0): 1,\n",
       " ('conclus', 0): 1,\n",
       " ('ignor', 0): 1,\n",
       " ('white', 0): 1,\n",
       " ('think', 0): 1,\n",
       " ('need', 0): 1,\n",
       " ('green', 0): 1,\n",
       " ('card', 0): 1,\n",
       " ('come', 0): 1,\n",
       " ('us', 0): 1,\n",
       " ('learn', 0): 1,\n",
       " ('prime', 0): 1,\n",
       " ('minist', 0): 1,\n",
       " ('run', 0): 1,\n",
       " ('good', 0): 1,\n",
       " ('cultur', 0): 1,\n",
       " ('tell', 0): 1,\n",
       " ('kid', 0): 1,\n",
       " ('pay', 0): 1,\n",
       " ('attent', 0): 1,\n",
       " ('geographi', 0): 1,\n",
       " ('histori', 0): 1,\n",
       " ('class', 0): 1,\n",
       " ('updat', 0): 1,\n",
       " ('bocabonita', 0): 1,\n",
       " ('doc', 0): 1,\n",
       " ('promot', 0): 1,\n",
       " ('feel', 0): 1,\n",
       " ('titl', 0): 1,\n",
       " ('yo', 0): 1,\n",
       " ('soy', 0): 1,\n",
       " ('lunch', 0): 1,\n",
       " ('pleas', 0): 1,\n",
       " ('stop', 0): 1,\n",
       " ('use', 0): 1,\n",
       " ('rican', 0): 1,\n",
       " ('boricua', 0): 1,\n",
       " ('anyth', 0): 1,\n",
       " ('els', 0): 1,\n",
       " ('associ', 0): 1,\n",
       " ('pr', 0): 1,\n",
       " ('histor', 0): 1,\n",
       " ('lesson', 0): 1,\n",
       " ('god', 0): 1,\n",
       " ('forbid', 0): 1,\n",
       " ('play', 0): 1}"
      ]
     },
     "execution_count": 84,
     "metadata": {},
     "output_type": "execute_result"
    }
   ],
   "source": [
    "# testing functionality of count_text\n",
    "count_text({}, X_train[0:3], y_train[0:3])"
   ]
  },
  {
   "cell_type": "code",
   "execution_count": 85,
   "id": "6f01e495-7e80-4aa7-8023-72f24d2b7c55",
   "metadata": {},
   "outputs": [],
   "source": [
    "# store training frequencies \n",
    "train_freq = count_text({}, X_train, y_train)"
   ]
  },
  {
   "cell_type": "markdown",
   "id": "b8ed1c90-8611-48ff-b72f-d40b3a1f359f",
   "metadata": {},
   "source": [
    "## Models"
   ]
  },
  {
   "cell_type": "markdown",
   "id": "bf00b2a1-2816-438c-90d5-97b8838c2f46",
   "metadata": {},
   "source": [
    "#### Logistic Regression"
   ]
  },
  {
   "cell_type": "code",
   "execution_count": null,
   "id": "b39355ec-6731-46b8-b998-718c221a0e02",
   "metadata": {},
   "outputs": [],
   "source": []
  }
 ],
 "metadata": {
  "kernelspec": {
   "display_name": "Python 3 (ipykernel)",
   "language": "python",
   "name": "python3"
  },
  "language_info": {
   "codemirror_mode": {
    "name": "ipython",
    "version": 3
   },
   "file_extension": ".py",
   "mimetype": "text/x-python",
   "name": "python",
   "nbconvert_exporter": "python",
   "pygments_lexer": "ipython3",
   "version": "3.11.7"
  }
 },
 "nbformat": 4,
 "nbformat_minor": 5
}
